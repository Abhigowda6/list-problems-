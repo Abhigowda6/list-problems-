{
 "cells": [
  {
   "cell_type": "code",
   "execution_count": 3,
   "id": "e4eab751-aff9-49af-8f4e-19aa0c525f02",
   "metadata": {},
   "outputs": [
    {
     "name": "stdin",
     "output_type": "stream",
     "text": [
      " 3\n",
      " 10\n",
      " 20\n",
      " 30\n"
     ]
    },
    {
     "name": "stdout",
     "output_type": "stream",
     "text": [
      "60\n"
     ]
    }
   ],
   "source": [
    "n=int(input())\n",
    "\n",
    "#creating a list\n",
    "list1 = []\n",
    "\n",
    "\n",
    "\n",
    "for i in range(0,n):\n",
    "    values=int(input())\n",
    "    list1.append(values)\n",
    "\n",
    "print(sum(list1))"
   ]
  },
  {
   "cell_type": "code",
   "execution_count": null,
   "id": "029c96d9-a5a7-4d6f-9f45-b3df3442a2fe",
   "metadata": {},
   "outputs": [],
   "source": []
  }
 ],
 "metadata": {
  "kernelspec": {
   "display_name": "Python 3 (ipykernel)",
   "language": "python",
   "name": "python3"
  },
  "language_info": {
   "codemirror_mode": {
    "name": "ipython",
    "version": 3
   },
   "file_extension": ".py",
   "mimetype": "text/x-python",
   "name": "python",
   "nbconvert_exporter": "python",
   "pygments_lexer": "ipython3",
   "version": "3.12.4"
  }
 },
 "nbformat": 4,
 "nbformat_minor": 5
}
